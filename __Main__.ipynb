{
 "cells": [
  {
   "cell_type": "markdown",
   "metadata": {},
   "source": [
    "# Stratified Splitting in PyTorch"
   ]
  },
  {
   "source": [
    "Importing Libraries:"
   ],
   "cell_type": "markdown",
   "metadata": {}
  },
  {
   "cell_type": "code",
   "execution_count": 1,
   "metadata": {},
   "outputs": [],
   "source": [
    "import sys\n",
    "sys.path.append('.')\n",
    "import torch\n",
    "import torchvision\n",
    "from torchvision import transforms, datasets\n",
    "from torch.utils.tensorboard import SummaryWriter\n",
    "import torch.nn as nn\n",
    "import torch.nn.functional as F\n",
    "import torch.optim as optim\n",
    "from tqdm import tqdm, trange\n",
    "\n",
    "import matplotlib.pyplot as plt\n",
    "import numpy as np\n",
    "import pandas as pd\n",
    "import random\n"
   ]
  },
  {
   "source": [
    "Importing the Data:"
   ],
   "cell_type": "markdown",
   "metadata": {}
  },
  {
   "cell_type": "code",
   "execution_count": 2,
   "metadata": {},
   "outputs": [
    {
     "output_type": "stream",
     "name": "stderr",
     "text": [
      "0it [00:00, ?it/s]Downloading http://yann.lecun.com/exdb/mnist/train-images-idx3-ubyte.gz to MNIST-data\\MNIST\\raw\\train-images-idx3-ubyte.gz\n",
      " 93%|█████████▎| 9191424/9912422 [00:02<00:00, 6005216.90it/s]Extracting MNIST-data\\MNIST\\raw\\train-images-idx3-ubyte.gz to MNIST-data\\MNIST\\raw\n",
      "\n",
      "0it [00:00, ?it/s]\u001b[ADownloading http://yann.lecun.com/exdb/mnist/train-labels-idx1-ubyte.gz to MNIST-data\\MNIST\\raw\\train-labels-idx1-ubyte.gz\n",
      "\n",
      "  0%|          | 0/28881 [00:00<?, ?it/s]\u001b[A\n",
      "\n",
      "0it [00:00, ?it/s]\u001b[A\u001b[AExtracting MNIST-data\\MNIST\\raw\\train-labels-idx1-ubyte.gz to MNIST-data\\MNIST\\raw\n",
      "Downloading http://yann.lecun.com/exdb/mnist/t10k-images-idx3-ubyte.gz to MNIST-data\\MNIST\\raw\\t10k-images-idx3-ubyte.gz\n",
      "\n",
      "\n",
      "  0%|          | 0/1648877 [00:00<?, ?it/s]\u001b[A\u001b[A\n",
      "\n",
      "  3%|▎         | 49152/1648877 [00:00<00:05, 307300.58it/s]\u001b[A\u001b[A\n",
      "\n",
      " 13%|█▎        | 212992/1648877 [00:00<00:03, 392720.45it/s]\u001b[A\u001b[A\n",
      "\n",
      " 43%|████▎     | 712704/1648877 [00:00<00:01, 542619.58it/s]\u001b[A\u001b[A\n",
      "\n",
      " 85%|████████▍ | 1400832/1648877 [00:00<00:00, 749759.56it/s]\u001b[A\u001b[A\n",
      "\n",
      "\n",
      "0it [00:00, ?it/s]\u001b[A\u001b[A\u001b[AExtracting MNIST-data\\MNIST\\raw\\t10k-images-idx3-ubyte.gz to MNIST-data\\MNIST\\raw\n",
      "Downloading http://yann.lecun.com/exdb/mnist/t10k-labels-idx1-ubyte.gz to MNIST-data\\MNIST\\raw\\t10k-labels-idx1-ubyte.gz\n",
      "\n",
      "\n",
      "\n",
      "32768it [00:01, 21946.03it/s]            \n",
      "1654784it [00:01, 1374343.81it/s]                            \n",
      "8192it [00:00, 25098.97it/s]            \n",
      "Extracting MNIST-data\\MNIST\\raw\\t10k-labels-idx1-ubyte.gz to MNIST-data\\MNIST\\raw\n",
      "Processing...\n",
      "Done!\n"
     ]
    }
   ],
   "source": [
    "train_data = datasets.MNIST(\"MNIST-data\", train=True, download=True, transform=transforms.ToTensor())"
   ]
  },
  {
   "source": [
    "Creating a list of different class:"
   ],
   "cell_type": "markdown",
   "metadata": {}
  },
  {
   "cell_type": "code",
   "execution_count": 3,
   "metadata": {
    "tags": []
   },
   "outputs": [
    {
     "output_type": "stream",
     "name": "stderr",
     "text": [
      "9920512it [00:05, 1756471.63it/s]                             \n",
      "100%|██████████| 60000/60000 [00:08<00:00, 7226.34it/s]\n"
     ]
    }
   ],
   "source": [
    "my_data = [[] for idx in range(10)]\n",
    "my_train_data = [[] for idx in range(10)]\n",
    "my_val_data = [[] for idx in range(10)]\n",
    "\n",
    "for data in tqdm(train_data):\n",
    "    my_data[int(data[1])].append((data[0],data[1]))\n",
    "\n",
    "for idx in range(10):\n",
    "    my_train_data[idx] = my_data[idx][:][:]"
   ]
  },
  {
   "source": [
    "Splitting each class to training and validation data(with the desire rartio):"
   ],
   "cell_type": "markdown",
   "metadata": {}
  },
  {
   "cell_type": "code",
   "execution_count": 4,
   "metadata": {},
   "outputs": [
    {
     "output_type": "stream",
     "name": "stderr",
     "text": [
      "100%|██████████| 10/10 [00:00<00:00, 771.18it/s]\n"
     ]
    }
   ],
   "source": [
    "split_ratio = .8\n",
    "\n",
    "for idx in trange(10):\n",
    "    my_train_data[idx], my_val_data[idx] = torch.utils.data.random_split(my_train_data[idx], [int(len(my_train_data[idx])*split_ratio), len(my_train_data[idx])-int(len(my_train_data[idx])*split_ratio)])\n"
   ]
  },
  {
   "source": [
    "Flattening the list of lists into a single list:"
   ],
   "cell_type": "markdown",
   "metadata": {}
  },
  {
   "cell_type": "code",
   "execution_count": 5,
   "metadata": {},
   "outputs": [
    {
     "output_type": "stream",
     "name": "stderr",
     "text": [
      "100%|██████████| 10/10 [00:00<00:00, 217.98it/s]\n"
     ]
    }
   ],
   "source": [
    "train_data = []\n",
    "val_data = []\n",
    "\n",
    "for idx in trange(10):\n",
    "    for item in my_train_data[idx]:\n",
    "        train_data.append(item)\n",
    "    for item in my_val_data[idx]:\n",
    "        val_data.append(item)"
   ]
  },
  {
   "source": [
    "Just a simple shuffle to ensure the rows in the same class are not all near each other:"
   ],
   "cell_type": "markdown",
   "metadata": {}
  },
  {
   "cell_type": "code",
   "execution_count": 6,
   "metadata": {},
   "outputs": [],
   "source": [
    "random.shuffle(train_data)\n",
    "random.shuffle(val_data)"
   ]
  },
  {
   "cell_type": "code",
   "execution_count": 7,
   "metadata": {},
   "outputs": [
    {
     "output_type": "stream",
     "name": "stdout",
     "text": [
      "47995 12005\n"
     ]
    }
   ],
   "source": [
    "print(\"Training rows:\", len(train_data), \"Validation rows:\", len(val_data))"
   ]
  },
  {
   "source": [
    "Checking the percentage of each class in our training set:"
   ],
   "cell_type": "markdown",
   "metadata": {}
  },
  {
   "cell_type": "code",
   "execution_count": 8,
   "metadata": {
    "tags": []
   },
   "outputs": [
    {
     "output_type": "stream",
     "name": "stderr",
     "text": [
      "100%|██████████| 47995/47995 [00:00<00:00, 601488.65it/s]0: 9.87%\n",
      "1: 11.24%\n",
      "2: 9.93%\n",
      "3: 10.22%\n",
      "4: 9.74%\n",
      "5: 9.03%\n",
      "6: 9.86%\n",
      "7: 10.44%\n",
      "8: 9.75%\n",
      "9: 9.92%\n",
      "\n"
     ]
    }
   ],
   "source": [
    "total = 0\n",
    "counter_dict = {0:0, 1:0, 2:0, 3:0, 4:0, 5:0, 6:0, 7:0, 8:0, 9:0}\n",
    "for data in tqdm(train_data):\n",
    "    x, y = data\n",
    "    counter_dict[int(y)]+=1\n",
    "    total+=1\n",
    "for i in counter_dict:\n",
    "    print(f\"{i}: {round(counter_dict[i]/total*100,2)}%\")"
   ]
  },
  {
   "source": [
    "Ensuring, we get the same proportion for the validation set:"
   ],
   "cell_type": "markdown",
   "metadata": {}
  },
  {
   "cell_type": "code",
   "execution_count": 9,
   "metadata": {},
   "outputs": [
    {
     "output_type": "stream",
     "name": "stderr",
     "text": [
      "100%|██████████| 12005/12005 [00:00<00:00, 401264.05it/s]0: 9.87%\n",
      "1: 11.24%\n",
      "2: 9.93%\n",
      "3: 10.22%\n",
      "4: 9.74%\n",
      "5: 9.04%\n",
      "6: 9.86%\n",
      "7: 10.44%\n",
      "8: 9.75%\n",
      "9: 9.91%\n",
      "\n"
     ]
    }
   ],
   "source": [
    "total = 0\n",
    "counter_dict = {0:0, 1:0, 2:0, 3:0, 4:0, 5:0, 6:0, 7:0, 8:0, 9:0}\n",
    "for data in tqdm(val_data):\n",
    "    x, y = data\n",
    "    counter_dict[int(y)]+=1\n",
    "    total+=1\n",
    "for i in counter_dict:\n",
    "    print(f\"{i}: {round(counter_dict[i]/total*100,2)}%\")"
   ]
  },
  {
   "cell_type": "code",
   "execution_count": null,
   "metadata": {},
   "outputs": [],
   "source": []
  }
 ],
 "metadata": {
  "kernelspec": {
   "display_name": "Python 3",
   "language": "python",
   "name": "python3"
  },
  "language_info": {
   "codemirror_mode": {
    "name": "ipython",
    "version": 3
   },
   "file_extension": ".py",
   "mimetype": "text/x-python",
   "name": "python",
   "nbconvert_exporter": "python",
   "pygments_lexer": "ipython3",
   "version": "3.7.0-final"
  }
 },
 "nbformat": 4,
 "nbformat_minor": 4
}